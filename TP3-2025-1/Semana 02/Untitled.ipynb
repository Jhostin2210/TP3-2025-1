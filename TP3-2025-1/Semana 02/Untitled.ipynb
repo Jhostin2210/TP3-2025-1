{
 "cells": [
  {
   "cell_type": "markdown",
   "id": "74213559-d696-41d0-8312-8f0abee1b1e8",
   "metadata": {},
   "source": [
    "# Semana02\n",
    "Jhostin Galarza Camarena"
   ]
  },
  {
   "cell_type": "code",
   "execution_count": 33,
   "id": "7b38aa72-e949-42c1-bd6a-8ceb825c7fc6",
   "metadata": {},
   "outputs": [],
   "source": [
    "# Temas\n",
    "# 1. Colecciones de datos\n",
    "# 2. Estructuras Decisivas y Estructuras Repetitivas\n",
    "# 3. Clases y Objetos\n",
    "# 4. Funciones"
   ]
  },
  {
   "cell_type": "code",
   "execution_count": 43,
   "id": "e3a6176f-ac80-4754-ac27-bb58ea11d4b1",
   "metadata": {},
   "outputs": [
    {
     "name": "stdout",
     "output_type": "stream",
     "text": [
      "['ALALUNA', 'AVILA', 'CABANILLAS', 'CAMARGO']\n"
     ]
    }
   ],
   "source": [
    "# 1.1. Listas\n",
    "# Es una colección  de elementos que puede ser ordenada,\n",
    "# modificada, etc..\n",
    "# Se identifica por los corchetes\n",
    "# Ejemplo:\n",
    "aula = ['ALALUNA','AVILA','CABANILLAS','CAMARGO']\n",
    "print(aula)"
   ]
  },
  {
   "cell_type": "code",
   "execution_count": 45,
   "id": "a14a1ed7-de35-452c-8168-d7ee1d541777",
   "metadata": {},
   "outputs": [
    {
     "name": "stdout",
     "output_type": "stream",
     "text": [
      "ALALUNA\n",
      "AVILA\n"
     ]
    }
   ],
   "source": [
    "print(aula[0])\n",
    "print(aula[1])"
   ]
  },
  {
   "cell_type": "code",
   "execution_count": 47,
   "id": "3b2b2de6-fcaf-4fa1-b4f4-ad9234154f88",
   "metadata": {},
   "outputs": [
    {
     "data": {
      "text/plain": [
       "'chavez'"
      ]
     },
     "execution_count": 47,
     "metadata": {},
     "output_type": "execute_result"
    }
   ],
   "source": [
    "aula[1] = 'chavez'\n",
    "aula[1]"
   ]
  },
  {
   "cell_type": "code",
   "execution_count": 49,
   "id": "cd4ab279-a031-4895-bbf3-6c4556034e4e",
   "metadata": {},
   "outputs": [
    {
     "data": {
      "text/plain": [
       "['ALALUNA', 'chavez', 'CABANILLAS', 'CAMARGO', 'Hermitaño', 'Gomez']"
      ]
     },
     "execution_count": 49,
     "metadata": {},
     "output_type": "execute_result"
    }
   ],
   "source": [
    "aula.append(\"Hermitaño\")\n",
    "aula.append(\"Gomez\")\n",
    "aula"
   ]
  },
  {
   "cell_type": "code",
   "execution_count": null,
   "id": "d276080a-a583-4e4a-abd7-c0b1bf9796b7",
   "metadata": {},
   "outputs": [],
   "source": []
  }
 ],
 "metadata": {
  "kernelspec": {
   "display_name": "Python [conda env:base] *",
   "language": "python",
   "name": "conda-base-py"
  },
  "language_info": {
   "codemirror_mode": {
    "name": "ipython",
    "version": 3
   },
   "file_extension": ".py",
   "mimetype": "text/x-python",
   "name": "python",
   "nbconvert_exporter": "python",
   "pygments_lexer": "ipython3",
   "version": "3.12.7"
  }
 },
 "nbformat": 4,
 "nbformat_minor": 5
}
