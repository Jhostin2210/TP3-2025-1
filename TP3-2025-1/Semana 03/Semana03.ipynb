{
 "cells": [
  {
   "cell_type": "code",
   "execution_count": null,
   "id": "232a1dda-9330-4561-97d4-9537c047fdfb",
   "metadata": {},
   "outputs": [],
   "source": [
    "#SEMANA 03\n",
    "#GALARZA CAMARENA JHOSTIN JEFRY"
   ]
  },
  {
   "cell_type": "code",
   "execution_count": 1,
   "id": "edc0775b-c048-45d6-93f0-92503455f22c",
   "metadata": {},
   "outputs": [
    {
     "name": "stdout",
     "output_type": "stream",
     "text": [
      "['Bernaola', 'Chipana', 'Gomez', 'Navarro']\n"
     ]
    }
   ],
   "source": [
    "#1.1 Listas\n",
    "#Es una colección de elementos que puede ser ordenada, modificada, etc\n",
    "#Se identifica por los corchetes\n",
    "#ejemplo\n",
    "aula=['Bernaola', 'Chipana', 'Gomez', 'Navarro']\n",
    "print (aula)"
   ]
  },
  {
   "cell_type": "code",
   "execution_count": 31,
   "id": "b012d3ba-0126-4b7d-b9af-eb9a55d87aba",
   "metadata": {},
   "outputs": [
    {
     "name": "stdout",
     "output_type": "stream",
     "text": [
      "Chipana\n",
      "Gomez\n"
     ]
    }
   ],
   "source": [
    "# Podemos extraer cada elemento por su posición\n",
    "print(aula[0])\n",
    "print(aula[1])"
   ]
  },
  {
   "cell_type": "code",
   "execution_count": 35,
   "id": "a6d3010d-4b69-402a-91ad-f64872d9ccfb",
   "metadata": {},
   "outputs": [
    {
     "data": {
      "text/plain": [
       "'Chavez'"
      ]
     },
     "execution_count": 35,
     "metadata": {},
     "output_type": "execute_result"
    }
   ],
   "source": [
    "# Puedo asignar un valor a una posición inicial\n",
    "aula[1]='Chavez'\n",
    "aula[1]"
   ]
  },
  {
   "cell_type": "code",
   "execution_count": 37,
   "id": "e5fcb830-8237-4130-80c4-2bf61fe32987",
   "metadata": {},
   "outputs": [
    {
     "data": {
      "text/plain": [
       "['Chipana', 'Chavez', 'Hermitaño', 'Navarro']"
      ]
     },
     "execution_count": 37,
     "metadata": {},
     "output_type": "execute_result"
    }
   ],
   "source": [
    "# Mostramos como quedo la lista\n",
    "aula"
   ]
  },
  {
   "cell_type": "code",
   "execution_count": 3,
   "id": "3db34ec2-7cdd-4f69-a853-4874d134cf41",
   "metadata": {},
   "outputs": [
    {
     "data": {
      "text/plain": [
       "['Bernaola', 'Chipana', 'Gomez', 'Navarro', 'Hermitaño', 'Gomez']"
      ]
     },
     "execution_count": 3,
     "metadata": {},
     "output_type": "execute_result"
    }
   ],
   "source": [
    "#PARA AGREGAR UN ELEMENTO UTILIZAMOS APPEND\n",
    "aula.append(\"Hermitaño\")\n",
    "aula.append(\"Gomez\")\n",
    "aula"
   ]
  },
  {
   "cell_type": "code",
   "execution_count": 5,
   "id": "ea4e92f3-7dc2-498e-96a6-3ff81aee6f41",
   "metadata": {},
   "outputs": [
    {
     "data": {
      "text/plain": [
       "['Chipana', 'Gomez', 'Navarro', 'Hermitaño', 'Gomez']"
      ]
     },
     "execution_count": 5,
     "metadata": {},
     "output_type": "execute_result"
    }
   ],
   "source": [
    "#Para eliminar elementos utilizamos remove\n",
    "aula.remove(\"Bernaola\")\n",
    "aula"
   ]
  },
  {
   "cell_type": "code",
   "execution_count": 7,
   "id": "5043211c-46b5-4fcb-aa38-40994ac063f8",
   "metadata": {},
   "outputs": [
    {
     "data": {
      "text/plain": [
       "['Chipana', 'Navarro', 'Hermitaño', 'Gomez']"
      ]
     },
     "execution_count": 7,
     "metadata": {},
     "output_type": "execute_result"
    }
   ],
   "source": [
    "#Si hubiera varios elementos de valores iguales se elimina la primera coincidencia aula.\n",
    "aula.remove(\"Gomez\")\n",
    "aula"
   ]
  },
  {
   "cell_type": "code",
   "execution_count": 9,
   "id": "940e4c62-bd1d-44ac-a50a-83acefd6cf57",
   "metadata": {},
   "outputs": [
    {
     "data": {
      "text/plain": [
       "4"
      ]
     },
     "execution_count": 9,
     "metadata": {},
     "output_type": "execute_result"
    }
   ],
   "source": [
    "#Para obtener el tamaño utilizamos Len()\n",
    "len(aula)"
   ]
  },
  {
   "cell_type": "code",
   "execution_count": 41,
   "id": "65209e4c-6479-4309-bb00-fb0b6182c4cf",
   "metadata": {},
   "outputs": [
    {
     "name": "stdout",
     "output_type": "stream",
     "text": [
      "Chipana\n",
      "Chavez\n",
      "Hermitaño\n",
      "Navarro\n"
     ]
    }
   ],
   "source": [
    "# Para recorrer podemos utilizar una estructura repetitiva\n",
    "for alumno in aula:\n",
    "    print(alumno)"
   ]
  },
  {
   "cell_type": "code",
   "execution_count": 11,
   "id": "83e767d9-69a9-478e-96f5-b1b06477385b",
   "metadata": {},
   "outputs": [
    {
     "data": {
      "text/plain": [
       "['Gomez', 'Hermitaño', 'Navarro', 'Chipana']"
      ]
     },
     "execution_count": 11,
     "metadata": {},
     "output_type": "execute_result"
    }
   ],
   "source": [
    "#Para invertir la lista utilizamos reverse()\n",
    "#invertir No significa ordenar en forma descendente de la lista\n",
    "aula.reverse() \n",
    "aula"
   ]
  },
  {
   "cell_type": "code",
   "execution_count": 13,
   "id": "ef0c6977-52eb-405f-bf63-83ce5088a3e9",
   "metadata": {},
   "outputs": [
    {
     "data": {
      "text/plain": [
       "['Chipana', 'Gomez', 'Hermitaño', 'Navarro']"
      ]
     },
     "execution_count": 13,
     "metadata": {},
     "output_type": "execute_result"
    }
   ],
   "source": [
    "#Ordenar de una lista utilizamos sort()\n",
    "aula.sort()\n",
    "aula"
   ]
  },
  {
   "cell_type": "code",
   "execution_count": 43,
   "id": "1bc5b864-1e4f-4b2d-b2fc-116d9030c9f9",
   "metadata": {},
   "outputs": [
    {
     "data": {
      "text/plain": [
       "('Bernaola', 'Chipana', 'Gomez', 'Navarro')"
      ]
     },
     "execution_count": 43,
     "metadata": {},
     "output_type": "execute_result"
    }
   ],
   "source": [
    "# 1.2 tuplas\n",
    "# es una colección de elementos ordenada (ordenada significa\n",
    "# que tienen un índice) que no se pueden modificar. es inalterable\n",
    "# NO se pueden agregar elementos ni eliminar\n",
    "# se identifica por los parentesis\n",
    "tupla_aula= ('Bernaola','Chipana','Gomez','Navarro')\n",
    "tupla_aula"
   ]
  },
  {
   "cell_type": "code",
   "execution_count": 45,
   "id": "63486130-9603-47e8-b2f6-f79cc03e352b",
   "metadata": {},
   "outputs": [
    {
     "data": {
      "text/plain": [
       "'Gomez'"
      ]
     },
     "execution_count": 45,
     "metadata": {},
     "output_type": "execute_result"
    }
   ],
   "source": [
    "# Se puede extraer un elemento por su posición\n",
    "tupla_aula[2]"
   ]
  },
  {
   "cell_type": "code",
   "execution_count": 47,
   "id": "b13145d0-8049-4aac-a229-11504ece6733",
   "metadata": {},
   "outputs": [
    {
     "data": {
      "text/plain": [
       "4"
      ]
     },
     "execution_count": 47,
     "metadata": {},
     "output_type": "execute_result"
    }
   ],
   "source": [
    "len(tupla_aula)"
   ]
  },
  {
   "cell_type": "code",
   "execution_count": 51,
   "id": "612676fc-e16f-41a0-b43f-77e5dca4a637",
   "metadata": {},
   "outputs": [
    {
     "data": {
      "text/plain": [
       "{'Bernaola', 'Chipana', 'Gomez', 'Navarro'}"
      ]
     },
     "execution_count": 51,
     "metadata": {},
     "output_type": "execute_result"
    }
   ],
   "source": [
    "# 1.3 Conjuntos\n",
    "# Es una coleccion de elementos que no esta ordenmado\n",
    "# Signicfica(no tiene un indice)\n",
    "conjunto_aula={'Bernaola','Chipana','Gomez','Navarro'}\n",
    "conjunto_aula"
   ]
  },
  {
   "cell_type": "code",
   "execution_count": 53,
   "id": "9a713515-2025-4300-8d95-b387a4f5a931",
   "metadata": {},
   "outputs": [
    {
     "name": "stdout",
     "output_type": "stream",
     "text": [
      "Navarro\n",
      "Bernaola\n",
      "Chipana\n",
      "Gomez\n"
     ]
    }
   ],
   "source": [
    "# Se puede recorrer utilizando una estructura repetitiva\n",
    "# ejemplo for\n",
    "for alumno in conjunto_aula:\n",
    "    print(alumno)"
   ]
  },
  {
   "cell_type": "code",
   "execution_count": null,
   "id": "8712f8f4-b4ce-4275-8c1e-ce01cb056a2b",
   "metadata": {},
   "outputs": [],
   "source": [
    "#observación: no se puede acceder por posicion pues no considera\n",
    "# indexación\n",
    "# por ejemplo:\n",
    "# conjunto_aula[2] devolvera un error"
   ]
  },
  {
   "cell_type": "code",
   "execution_count": null,
   "id": "8727c303-8697-40f6-a92b-99b0d12595d6",
   "metadata": {},
   "outputs": [],
   "source": [
    "# Para saber la cantidad de elementos utilizamos len()\n",
    "len(conjunto_aula)"
   ]
  },
  {
   "cell_type": "code",
   "execution_count": null,
   "id": "3cdd4bc6-dd5b-4225-a055-717efce45b6e",
   "metadata": {},
   "outputs": [],
   "source": [
    "# Para agregar utilizamos la función add()\n",
    "conjunto_aula.add(\"Palomino\")\n",
    "conjunto_aula"
   ]
  },
  {
   "cell_type": "code",
   "execution_count": null,
   "id": "a3754fb8-0c7b-4ac7-a725-d30bb91bf5a1",
   "metadata": {},
   "outputs": [],
   "source": [
    "# Para eliminar elementos utilizamos la función remove()\n"
   ]
  },
  {
   "cell_type": "code",
   "execution_count": 15,
   "id": "ed616bb4-ed74-4aad-98f6-fccf24608e49",
   "metadata": {},
   "outputs": [
    {
     "data": {
      "text/plain": [
       "{2: 'Bernaola',\n",
       " '1': 'Chipana',\n",
       " 'dos': 'Gomez',\n",
       " '3': 'Navarro',\n",
       " '0': 'Palomino'}"
      ]
     },
     "execution_count": 15,
     "metadata": {},
     "output_type": "execute_result"
    }
   ],
   "source": [
    "# 1.4. Diccionarios\n",
    "# Es una colección de elementos, que estan indexados,\n",
    "# no estan ordenados y se pueden modificar\n",
    "# Son escritos entre llaves y estan formados por pares de elementos\n",
    "# INDICE:VALOR\n",
    "diccionario_aula = {2:'Bernaola', '1':'Chipana', 'dos':'Gomez', '3':'Navarro', '0':'Palomino'}\n",
    "diccionario_aula"
   ]
  },
  {
   "cell_type": "code",
   "execution_count": 17,
   "id": "308018e8-62a2-46c8-a799-6f872b343728",
   "metadata": {},
   "outputs": [
    {
     "data": {
      "text/plain": [
       "'Palomino'"
      ]
     },
     "execution_count": 17,
     "metadata": {},
     "output_type": "execute_result"
    }
   ],
   "source": [
    "# Del Diccionario: diccionario_aula extraer el valor cuyo índice sea cero\n",
    "diccionario_aula['0']"
   ]
  },
  {
   "cell_type": "code",
   "execution_count": 19,
   "id": "d97c4f12-1111-4961-9ebd-3905bcc07659",
   "metadata": {},
   "outputs": [
    {
     "data": {
      "text/plain": [
       "'Bernaola'"
      ]
     },
     "execution_count": 19,
     "metadata": {},
     "output_type": "execute_result"
    }
   ],
   "source": [
    "diccionario_aula[2]"
   ]
  },
  {
   "cell_type": "code",
   "execution_count": 21,
   "id": "84ffdc1c-9b87-4df0-9f72-3a44f288e749",
   "metadata": {},
   "outputs": [
    {
     "data": {
      "text/plain": [
       "'Chipana'"
      ]
     },
     "execution_count": 21,
     "metadata": {},
     "output_type": "execute_result"
    }
   ],
   "source": [
    "diccionario_aula[\"1\"]"
   ]
  },
  {
   "cell_type": "code",
   "execution_count": 23,
   "id": "a1bb3ee1-06ab-49e5-a5ca-1752543f9990",
   "metadata": {},
   "outputs": [
    {
     "data": {
      "text/plain": [
       "'Gomez'"
      ]
     },
     "execution_count": 23,
     "metadata": {},
     "output_type": "execute_result"
    }
   ],
   "source": [
    "diccionario_aula[\"dos\"]"
   ]
  },
  {
   "cell_type": "code",
   "execution_count": 25,
   "id": "66656db0-9cee-4c74-885d-3d83a6dc2999",
   "metadata": {},
   "outputs": [
    {
     "data": {
      "text/plain": [
       "{2: 'Bernaola',\n",
       " '1': 'Chipana',\n",
       " 'dos': 'Gomez',\n",
       " '3': 'Navarro',\n",
       " '0': 'Palomino',\n",
       " '20': 'Vilca'}"
      ]
     },
     "execution_count": 25,
     "metadata": {},
     "output_type": "execute_result"
    }
   ],
   "source": [
    "# Para añadir un par de elementos del dicccionario hacemos:\n",
    "diccionario_aula['20'] = \"Vilca\"\n",
    "diccionario_aula"
   ]
  },
  {
   "cell_type": "code",
   "execution_count": 27,
   "id": "b18818e6-11a6-478a-9076-7e3eea7d2fed",
   "metadata": {},
   "outputs": [
    {
     "data": {
      "text/plain": [
       "{'1': 'Chipana',\n",
       " 'dos': 'Gomez',\n",
       " '3': 'Navarro',\n",
       " '0': 'Palomino',\n",
       " '20': 'Vilca'}"
      ]
     },
     "execution_count": 27,
     "metadata": {},
     "output_type": "execute_result"
    }
   ],
   "source": [
    "# Para eliminar un valor se utiliza pop()\n",
    "# Por ejemplo, eliminar el elemento de índice dos.ejemplo: Para eliminar a \n",
    "diccionario_aula.pop(2)\n",
    "diccionario_aula"
   ]
  },
  {
   "cell_type": "code",
   "execution_count": 29,
   "id": "048acab4-09af-4f41-8aa6-f7ded46d9eb3",
   "metadata": {},
   "outputs": [
    {
     "data": {
      "text/plain": [
       "{'1': 'Chipana', '3': 'Navarro', '0': 'Palomino', '20': 'Vilca'}"
      ]
     },
     "execution_count": 29,
     "metadata": {},
     "output_type": "execute_result"
    }
   ],
   "source": [
    "# Tambien se puede eliminar utilizando del()\n",
    "del(diccionario_aula[\"dos\"])\n",
    "diccionario_aula"
   ]
  },
  {
   "cell_type": "code",
   "execution_count": 33,
   "id": "49e847a8-5465-49f5-8d22-50749a1fe0e2",
   "metadata": {},
   "outputs": [
    {
     "name": "stdout",
     "output_type": "stream",
     "text": [
      "1\n",
      "3\n",
      "0\n",
      "20\n"
     ]
    }
   ],
   "source": [
    "# Para recorrer todos los elementos podemos utilizar for\n",
    "# En este ejemplo devuelve los índices\n",
    "for indice in diccionario_aula:\n",
    "    print(indice)"
   ]
  },
  {
   "cell_type": "code",
   "execution_count": 39,
   "id": "67505293-e21c-4dcc-90ec-9b36db5f00e5",
   "metadata": {},
   "outputs": [
    {
     "name": "stdout",
     "output_type": "stream",
     "text": [
      "1 Chipana\n",
      "3 Navarro\n",
      "0 Palomino\n",
      "20 Vilca\n"
     ]
    }
   ],
   "source": [
    "# Para obtener el índice y el valor de cada elemento utilizamos items()\n",
    "for indice, valor in diccionario_aula.items():\n",
    "    print(indice, valor)"
   ]
  },
  {
   "cell_type": "code",
   "execution_count": 98,
   "id": "22a55aad-9673-4869-af32-ee3b84a31d23",
   "metadata": {},
   "outputs": [
    {
     "name": "stdin",
     "output_type": "stream",
     "text": [
      "Ingrese apellido:  bernal\n"
     ]
    },
    {
     "name": "stdout",
     "output_type": "stream",
     "text": [
      "forma parte de la lista\n"
     ]
    }
   ],
   "source": [
    "# 1.5. Ejercicio \n",
    "# Dado una lista de [BERNAL, BERNAOLA, CABALLERO, CALDERON, CARRASCO, CENTENO, CHALQUE, CHAVEZ, CONDORI, CRUZ, PALACIOS, PALOMINO, QUISPE, RAMOS, RODAS, SILVERA, TALAVERA, TINEO, VICTORIO, VILCA, ZEA] \n",
    "# Diseñar un código que muestre si el apellido de un estudiante (Ingresado por teclado) forma parte de la lista \n",
    "# tiempo: 12 minutos\n",
    "Apellidos= ['BERNAL', 'BERNAOLA', 'CABALLERO', 'CALDERON', 'CARRASCO', 'CENTENO', 'CHALQUE', 'CHAVEZ', 'CONDORI', 'CRUZ', \n",
    "            'PALACIOS', 'PALOMINO', 'QUISPE', 'RAMOS', 'RODAS', 'SILVERA', 'TALAVERA', 'TINEO', 'VICTORIO', 'VILCA', 'ZEA']\n",
    "Apellido= input (\"Ingrese apellido: \").upper()\n",
    "if Apellido in Apellidos:\n",
    "    print(\"forma parte de la lista\")\n",
    "\n",
    "else:\n",
    "    print(\"no pertenece a la lista\")"
   ]
  },
  {
   "cell_type": "code",
   "execution_count": null,
   "id": "360b482b-5d88-4c99-a826-501cd756ddac",
   "metadata": {},
   "outputs": [],
   "source": []
  }
 ],
 "metadata": {
  "kernelspec": {
   "display_name": "Python [conda env:base] *",
   "language": "python",
   "name": "conda-base-py"
  },
  "language_info": {
   "codemirror_mode": {
    "name": "ipython",
    "version": 3
   },
   "file_extension": ".py",
   "mimetype": "text/x-python",
   "name": "python",
   "nbconvert_exporter": "python",
   "pygments_lexer": "ipython3",
   "version": "3.12.7"
  }
 },
 "nbformat": 4,
 "nbformat_minor": 5
}
